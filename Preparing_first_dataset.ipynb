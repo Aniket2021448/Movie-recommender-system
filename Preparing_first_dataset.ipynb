{
 "cells": [
  {
   "cell_type": "code",
   "execution_count": 1,
   "metadata": {},
   "outputs": [
    {
     "name": "stderr",
     "output_type": "stream",
     "text": [
      "c:\\Users\\Aniket\\AppData\\Local\\Programs\\Python\\Python311\\Lib\\site-packages\\tqdm\\auto.py:21: TqdmWarning: IProgress not found. Please update jupyter and ipywidgets. See https://ipywidgets.readthedocs.io/en/stable/user_install.html\n",
      "  from .autonotebook import tqdm as notebook_tqdm\n"
     ]
    }
   ],
   "source": [
    "import pandas as pd\n",
    "import numpy as np\n",
    "from ydata_profiling import ProfileReport"
   ]
  },
  {
   "cell_type": "markdown",
   "metadata": {},
   "source": [
    "##### Data set : 1 Hydra-Movie Scrape.csv\n",
    "##### Data set : 2 indian movies.csv\n",
    "##### Data set : 3 mymoviesdb.csv\n",
    "##### Data set : 4 Movies_dataset.csv\n",
    "##### Data set : 5 imdb_movies.csv"
   ]
  },
  {
   "cell_type": "markdown",
   "metadata": {},
   "source": [
    "##### Adding the data and performing pandas profiling on them"
   ]
  },
  {
   "cell_type": "code",
   "execution_count": 2,
   "metadata": {},
   "outputs": [],
   "source": [
    "df1 = pd.read_csv('D:\\PROJECTS\\Movie-recommender-system\\Data\\Hydra-Movie-Scrape.csv')"
   ]
  },
  {
   "cell_type": "code",
   "execution_count": 3,
   "metadata": {},
   "outputs": [
    {
     "name": "stdout",
     "output_type": "stream",
     "text": [
      "Hydra-Movie-scrape.csv data as DF1\n"
     ]
    },
    {
     "data": {
      "text/html": [
       "<div>\n",
       "<style scoped>\n",
       "    .dataframe tbody tr th:only-of-type {\n",
       "        vertical-align: middle;\n",
       "    }\n",
       "\n",
       "    .dataframe tbody tr th {\n",
       "        vertical-align: top;\n",
       "    }\n",
       "\n",
       "    .dataframe thead th {\n",
       "        text-align: right;\n",
       "    }\n",
       "</style>\n",
       "<table border=\"1\" class=\"dataframe\">\n",
       "  <thead>\n",
       "    <tr style=\"text-align: right;\">\n",
       "      <th></th>\n",
       "      <th>Title</th>\n",
       "      <th>Year</th>\n",
       "      <th>Summary</th>\n",
       "      <th>Short Summary</th>\n",
       "      <th>Genres</th>\n",
       "      <th>IMDB ID</th>\n",
       "      <th>Runtime</th>\n",
       "      <th>YouTube Trailer</th>\n",
       "      <th>Rating</th>\n",
       "      <th>Movie Poster</th>\n",
       "      <th>Director</th>\n",
       "      <th>Writers</th>\n",
       "      <th>Cast</th>\n",
       "    </tr>\n",
       "  </thead>\n",
       "  <tbody>\n",
       "    <tr>\n",
       "      <th>0</th>\n",
       "      <td>Patton Oswalt: Annihilation</td>\n",
       "      <td>2017</td>\n",
       "      <td>Patton Oswald, despite a personal tragedy, pro...</td>\n",
       "      <td>Patton Oswalt, despite a personal tragedy, pro...</td>\n",
       "      <td>Uncategorized</td>\n",
       "      <td>tt7026230</td>\n",
       "      <td>66</td>\n",
       "      <td>4hZi5QaMBFc</td>\n",
       "      <td>7.4</td>\n",
       "      <td>https://hydramovies.com/wp-content/uploads/201...</td>\n",
       "      <td>Bobcat Goldthwait</td>\n",
       "      <td>Patton Oswalt</td>\n",
       "      <td>Patton Oswalt</td>\n",
       "    </tr>\n",
       "    <tr>\n",
       "      <th>1</th>\n",
       "      <td>New York Doll</td>\n",
       "      <td>2005</td>\n",
       "      <td>A recovering alcoholic and recently converted ...</td>\n",
       "      <td>A recovering alcoholic and recently converted ...</td>\n",
       "      <td>Documentary|Music</td>\n",
       "      <td>tt0436629</td>\n",
       "      <td>75</td>\n",
       "      <td>jwD04NsnLLg</td>\n",
       "      <td>7.9</td>\n",
       "      <td>https://hydramovies.com/wp-content/uploads/201...</td>\n",
       "      <td>Greg Whiteley</td>\n",
       "      <td>Arthur Kane</td>\n",
       "      <td>Sylvain Sylvain</td>\n",
       "    </tr>\n",
       "    <tr>\n",
       "      <th>2</th>\n",
       "      <td>Mickey's Magical Christmas: Snowed in at the H...</td>\n",
       "      <td>2001</td>\n",
       "      <td>After everyone is snowed in at the House of Mo...</td>\n",
       "      <td>Mickey and all his friends hold their own Chri...</td>\n",
       "      <td>Adventure|Animation|Comedy|Family|Fantasy</td>\n",
       "      <td>tt0300195</td>\n",
       "      <td>65</td>\n",
       "      <td>uCKwHHftrU4</td>\n",
       "      <td>6.8</td>\n",
       "      <td>https://hydramovies.com/wp-content/uploads/201...</td>\n",
       "      <td>Tony Craig</td>\n",
       "      <td>Thomas Hart</td>\n",
       "      <td>Carlos Alazraqui|Wayne Allwine</td>\n",
       "    </tr>\n",
       "    <tr>\n",
       "      <th>3</th>\n",
       "      <td>Mickey's House of Villains</td>\n",
       "      <td>2001</td>\n",
       "      <td>The villains from the popular animated Disney ...</td>\n",
       "      <td>The villains from the popular animated Disney ...</td>\n",
       "      <td>Animation|Comedy|Family|Fantasy|Horror</td>\n",
       "      <td>tt0329374</td>\n",
       "      <td>0</td>\n",
       "      <td>JA03ciYt-Ek</td>\n",
       "      <td>6.6</td>\n",
       "      <td>https://hydramovies.com/wp-content/uploads/201...</td>\n",
       "      <td>Jamie Mitchell</td>\n",
       "      <td>Thomas Hart</td>\n",
       "      <td>Tony Anselmo|Wayne Allwine</td>\n",
       "    </tr>\n",
       "    <tr>\n",
       "      <th>4</th>\n",
       "      <td>And Then I Go</td>\n",
       "      <td>2017</td>\n",
       "      <td>In the cruel world of junior high, Edwin suffe...</td>\n",
       "      <td>In the cruel world of junior high, Edwin suffe...</td>\n",
       "      <td>Drama</td>\n",
       "      <td>tt2018111</td>\n",
       "      <td>99</td>\n",
       "      <td>8CdIiD6-iF0</td>\n",
       "      <td>7.6</td>\n",
       "      <td>https://hydramovies.com/wp-content/uploads/201...</td>\n",
       "      <td>Vincent Grashaw</td>\n",
       "      <td>Brett Haley</td>\n",
       "      <td>Arman Darbo|Sawyer Barth</td>\n",
       "    </tr>\n",
       "  </tbody>\n",
       "</table>\n",
       "</div>"
      ],
      "text/plain": [
       "                                               Title  Year   \n",
       "0                        Patton Oswalt: Annihilation  2017  \\\n",
       "1                                      New York Doll  2005   \n",
       "2  Mickey's Magical Christmas: Snowed in at the H...  2001   \n",
       "3                         Mickey's House of Villains  2001   \n",
       "4                                      And Then I Go  2017   \n",
       "\n",
       "                                             Summary   \n",
       "0  Patton Oswald, despite a personal tragedy, pro...  \\\n",
       "1  A recovering alcoholic and recently converted ...   \n",
       "2  After everyone is snowed in at the House of Mo...   \n",
       "3  The villains from the popular animated Disney ...   \n",
       "4  In the cruel world of junior high, Edwin suffe...   \n",
       "\n",
       "                                       Short Summary   \n",
       "0  Patton Oswalt, despite a personal tragedy, pro...  \\\n",
       "1  A recovering alcoholic and recently converted ...   \n",
       "2  Mickey and all his friends hold their own Chri...   \n",
       "3  The villains from the popular animated Disney ...   \n",
       "4  In the cruel world of junior high, Edwin suffe...   \n",
       "\n",
       "                                      Genres    IMDB ID  Runtime   \n",
       "0                              Uncategorized  tt7026230       66  \\\n",
       "1                          Documentary|Music  tt0436629       75   \n",
       "2  Adventure|Animation|Comedy|Family|Fantasy  tt0300195       65   \n",
       "3     Animation|Comedy|Family|Fantasy|Horror  tt0329374        0   \n",
       "4                                      Drama  tt2018111       99   \n",
       "\n",
       "  YouTube Trailer  Rating                                       Movie Poster   \n",
       "0     4hZi5QaMBFc     7.4  https://hydramovies.com/wp-content/uploads/201...  \\\n",
       "1     jwD04NsnLLg     7.9  https://hydramovies.com/wp-content/uploads/201...   \n",
       "2     uCKwHHftrU4     6.8  https://hydramovies.com/wp-content/uploads/201...   \n",
       "3     JA03ciYt-Ek     6.6  https://hydramovies.com/wp-content/uploads/201...   \n",
       "4     8CdIiD6-iF0     7.6  https://hydramovies.com/wp-content/uploads/201...   \n",
       "\n",
       "            Director        Writers                            Cast  \n",
       "0  Bobcat Goldthwait  Patton Oswalt                   Patton Oswalt  \n",
       "1      Greg Whiteley    Arthur Kane                 Sylvain Sylvain  \n",
       "2         Tony Craig    Thomas Hart  Carlos Alazraqui|Wayne Allwine  \n",
       "3     Jamie Mitchell    Thomas Hart      Tony Anselmo|Wayne Allwine  \n",
       "4    Vincent Grashaw    Brett Haley        Arman Darbo|Sawyer Barth  "
      ]
     },
     "execution_count": 3,
     "metadata": {},
     "output_type": "execute_result"
    }
   ],
   "source": [
    "print(\"Hydra-Movie-scrape.csv data as DF1\")\n",
    "df1.head()"
   ]
  },
  {
   "cell_type": "code",
   "execution_count": 19,
   "metadata": {},
   "outputs": [
    {
     "name": "stderr",
     "output_type": "stream",
     "text": [
      "Summarize dataset:   0%|          | 0/5 [00:00<?, ?it/s]"
     ]
    },
    {
     "name": "stderr",
     "output_type": "stream",
     "text": [
      "Summarize dataset: 100%|██████████| 32/32 [00:03<00:00, 10.25it/s, Completed]                       \n",
      "Generate report structure: 100%|██████████| 1/1 [00:06<00:00,  6.61s/it]\n",
      "Render HTML: 100%|██████████| 1/1 [00:00<00:00,  1.62it/s]\n",
      "Export report to file: 100%|██████████| 1/1 [00:00<00:00, 339.70it/s]\n"
     ]
    }
   ],
   "source": [
    "df1_profile = ProfileReport(df1, title=\"df1_hydra_EDA\")\n",
    "df1_profile.to_file(output_file='D:\\PROJECTS\\Movie-recommender-system\\EDA files\\df1_hydra_EDA.html')"
   ]
  },
  {
   "cell_type": "markdown",
   "metadata": {},
   "source": [
    "#### Cleaning df1 hydra-movies dataset"
   ]
  },
  {
   "cell_type": "code",
   "execution_count": 4,
   "metadata": {},
   "outputs": [
    {
     "name": "stdout",
     "output_type": "stream",
     "text": [
      "(3940, 13)\n"
     ]
    }
   ],
   "source": [
    "print(df1.shape)\n",
    "df1.isnull().sum()\n",
    "df1.dropna(inplace=True)"
   ]
  },
  {
   "cell_type": "code",
   "execution_count": 5,
   "metadata": {},
   "outputs": [
    {
     "data": {
      "text/plain": [
       "Title              0\n",
       "Year               0\n",
       "Summary            0\n",
       "Short Summary      0\n",
       "Genres             0\n",
       "IMDB ID            0\n",
       "Runtime            0\n",
       "YouTube Trailer    0\n",
       "Rating             0\n",
       "Movie Poster       0\n",
       "Director           0\n",
       "Writers            0\n",
       "Cast               0\n",
       "dtype: int64"
      ]
     },
     "execution_count": 5,
     "metadata": {},
     "output_type": "execute_result"
    }
   ],
   "source": [
    "df1.isnull().sum()"
   ]
  },
  {
   "cell_type": "code",
   "execution_count": 6,
   "metadata": {},
   "outputs": [
    {
     "data": {
      "text/plain": [
       "0"
      ]
     },
     "execution_count": 6,
     "metadata": {},
     "output_type": "execute_result"
    }
   ],
   "source": [
    "df1.drop(columns='Cast').duplicated().sum()    ## Cast was having a list, restricting the checking for duplicate rows"
   ]
  },
  {
   "cell_type": "code",
   "execution_count": 7,
   "metadata": {},
   "outputs": [
    {
     "data": {
      "text/html": [
       "<div>\n",
       "<style scoped>\n",
       "    .dataframe tbody tr th:only-of-type {\n",
       "        vertical-align: middle;\n",
       "    }\n",
       "\n",
       "    .dataframe tbody tr th {\n",
       "        vertical-align: top;\n",
       "    }\n",
       "\n",
       "    .dataframe thead th {\n",
       "        text-align: right;\n",
       "    }\n",
       "</style>\n",
       "<table border=\"1\" class=\"dataframe\">\n",
       "  <thead>\n",
       "    <tr style=\"text-align: right;\">\n",
       "      <th></th>\n",
       "      <th>Title</th>\n",
       "      <th>Year</th>\n",
       "      <th>Summary</th>\n",
       "      <th>Short Summary</th>\n",
       "      <th>Genres</th>\n",
       "      <th>IMDB ID</th>\n",
       "      <th>Runtime</th>\n",
       "      <th>YouTube Trailer</th>\n",
       "      <th>Rating</th>\n",
       "      <th>Movie Poster</th>\n",
       "      <th>Director</th>\n",
       "      <th>Writers</th>\n",
       "      <th>Cast</th>\n",
       "    </tr>\n",
       "  </thead>\n",
       "  <tbody>\n",
       "    <tr>\n",
       "      <th>0</th>\n",
       "      <td>Patton Oswalt: Annihilation</td>\n",
       "      <td>2017</td>\n",
       "      <td>Patton Oswald, despite a personal tragedy, pro...</td>\n",
       "      <td>Patton Oswalt, despite a personal tragedy, pro...</td>\n",
       "      <td>[Uncategorized]</td>\n",
       "      <td>tt7026230</td>\n",
       "      <td>66</td>\n",
       "      <td>4hZi5QaMBFc</td>\n",
       "      <td>7.4</td>\n",
       "      <td>https://hydramovies.com/wp-content/uploads/201...</td>\n",
       "      <td>Bobcat Goldthwait</td>\n",
       "      <td>Patton Oswalt</td>\n",
       "      <td>[Patton Oswalt]</td>\n",
       "    </tr>\n",
       "    <tr>\n",
       "      <th>1</th>\n",
       "      <td>New York Doll</td>\n",
       "      <td>2005</td>\n",
       "      <td>A recovering alcoholic and recently converted ...</td>\n",
       "      <td>A recovering alcoholic and recently converted ...</td>\n",
       "      <td>[Documentary, Music]</td>\n",
       "      <td>tt0436629</td>\n",
       "      <td>75</td>\n",
       "      <td>jwD04NsnLLg</td>\n",
       "      <td>7.9</td>\n",
       "      <td>https://hydramovies.com/wp-content/uploads/201...</td>\n",
       "      <td>Greg Whiteley</td>\n",
       "      <td>Arthur Kane</td>\n",
       "      <td>[Sylvain Sylvain]</td>\n",
       "    </tr>\n",
       "    <tr>\n",
       "      <th>2</th>\n",
       "      <td>Mickey's Magical Christmas: Snowed in at the H...</td>\n",
       "      <td>2001</td>\n",
       "      <td>After everyone is snowed in at the House of Mo...</td>\n",
       "      <td>Mickey and all his friends hold their own Chri...</td>\n",
       "      <td>[Adventure, Animation, Comedy, Family, Fantasy]</td>\n",
       "      <td>tt0300195</td>\n",
       "      <td>65</td>\n",
       "      <td>uCKwHHftrU4</td>\n",
       "      <td>6.8</td>\n",
       "      <td>https://hydramovies.com/wp-content/uploads/201...</td>\n",
       "      <td>Tony Craig</td>\n",
       "      <td>Thomas Hart</td>\n",
       "      <td>[Carlos Alazraqui, Wayne Allwine]</td>\n",
       "    </tr>\n",
       "    <tr>\n",
       "      <th>3</th>\n",
       "      <td>Mickey's House of Villains</td>\n",
       "      <td>2001</td>\n",
       "      <td>The villains from the popular animated Disney ...</td>\n",
       "      <td>The villains from the popular animated Disney ...</td>\n",
       "      <td>[Animation, Comedy, Family, Fantasy, Horror]</td>\n",
       "      <td>tt0329374</td>\n",
       "      <td>0</td>\n",
       "      <td>JA03ciYt-Ek</td>\n",
       "      <td>6.6</td>\n",
       "      <td>https://hydramovies.com/wp-content/uploads/201...</td>\n",
       "      <td>Jamie Mitchell</td>\n",
       "      <td>Thomas Hart</td>\n",
       "      <td>[Tony Anselmo, Wayne Allwine]</td>\n",
       "    </tr>\n",
       "    <tr>\n",
       "      <th>4</th>\n",
       "      <td>And Then I Go</td>\n",
       "      <td>2017</td>\n",
       "      <td>In the cruel world of junior high, Edwin suffe...</td>\n",
       "      <td>In the cruel world of junior high, Edwin suffe...</td>\n",
       "      <td>[Drama]</td>\n",
       "      <td>tt2018111</td>\n",
       "      <td>99</td>\n",
       "      <td>8CdIiD6-iF0</td>\n",
       "      <td>7.6</td>\n",
       "      <td>https://hydramovies.com/wp-content/uploads/201...</td>\n",
       "      <td>Vincent Grashaw</td>\n",
       "      <td>Brett Haley</td>\n",
       "      <td>[Arman Darbo, Sawyer Barth]</td>\n",
       "    </tr>\n",
       "  </tbody>\n",
       "</table>\n",
       "</div>"
      ],
      "text/plain": [
       "                                               Title  Year   \n",
       "0                        Patton Oswalt: Annihilation  2017  \\\n",
       "1                                      New York Doll  2005   \n",
       "2  Mickey's Magical Christmas: Snowed in at the H...  2001   \n",
       "3                         Mickey's House of Villains  2001   \n",
       "4                                      And Then I Go  2017   \n",
       "\n",
       "                                             Summary   \n",
       "0  Patton Oswald, despite a personal tragedy, pro...  \\\n",
       "1  A recovering alcoholic and recently converted ...   \n",
       "2  After everyone is snowed in at the House of Mo...   \n",
       "3  The villains from the popular animated Disney ...   \n",
       "4  In the cruel world of junior high, Edwin suffe...   \n",
       "\n",
       "                                       Short Summary   \n",
       "0  Patton Oswalt, despite a personal tragedy, pro...  \\\n",
       "1  A recovering alcoholic and recently converted ...   \n",
       "2  Mickey and all his friends hold their own Chri...   \n",
       "3  The villains from the popular animated Disney ...   \n",
       "4  In the cruel world of junior high, Edwin suffe...   \n",
       "\n",
       "                                            Genres    IMDB ID  Runtime   \n",
       "0                                  [Uncategorized]  tt7026230       66  \\\n",
       "1                             [Documentary, Music]  tt0436629       75   \n",
       "2  [Adventure, Animation, Comedy, Family, Fantasy]  tt0300195       65   \n",
       "3     [Animation, Comedy, Family, Fantasy, Horror]  tt0329374        0   \n",
       "4                                          [Drama]  tt2018111       99   \n",
       "\n",
       "  YouTube Trailer  Rating                                       Movie Poster   \n",
       "0     4hZi5QaMBFc     7.4  https://hydramovies.com/wp-content/uploads/201...  \\\n",
       "1     jwD04NsnLLg     7.9  https://hydramovies.com/wp-content/uploads/201...   \n",
       "2     uCKwHHftrU4     6.8  https://hydramovies.com/wp-content/uploads/201...   \n",
       "3     JA03ciYt-Ek     6.6  https://hydramovies.com/wp-content/uploads/201...   \n",
       "4     8CdIiD6-iF0     7.6  https://hydramovies.com/wp-content/uploads/201...   \n",
       "\n",
       "            Director        Writers                               Cast  \n",
       "0  Bobcat Goldthwait  Patton Oswalt                    [Patton Oswalt]  \n",
       "1      Greg Whiteley    Arthur Kane                  [Sylvain Sylvain]  \n",
       "2         Tony Craig    Thomas Hart  [Carlos Alazraqui, Wayne Allwine]  \n",
       "3     Jamie Mitchell    Thomas Hart      [Tony Anselmo, Wayne Allwine]  \n",
       "4    Vincent Grashaw    Brett Haley        [Arman Darbo, Sawyer Barth]  "
      ]
     },
     "execution_count": 7,
     "metadata": {},
     "output_type": "execute_result"
    }
   ],
   "source": [
    "df1['Cast'] = df1['Cast'].str.split('|').str[0:3]\n",
    "df1['Genres'] = df1['Genres'].str.split('|')\n",
    "df1.head()"
   ]
  },
  {
   "cell_type": "code",
   "execution_count": 8,
   "metadata": {},
   "outputs": [
    {
     "data": {
      "text/plain": [
       "24"
      ]
     },
     "execution_count": 8,
     "metadata": {},
     "output_type": "execute_result"
    }
   ],
   "source": [
    "# There are some Genres as uncategorized, if their count is less we remove the rows else the column\n",
    "df1['Genres'].str[0].value_counts().get('Uncategorized', 0)"
   ]
  },
  {
   "cell_type": "code",
   "execution_count": 9,
   "metadata": {},
   "outputs": [
    {
     "name": "stdout",
     "output_type": "stream",
     "text": [
      "Since the number is small, let's remove the rows with uncategorized column\n"
     ]
    },
    {
     "data": {
      "text/plain": [
       "0"
      ]
     },
     "execution_count": 9,
     "metadata": {},
     "output_type": "execute_result"
    }
   ],
   "source": [
    "print(\"Since the number is small, let's remove the rows with uncategorized column\")\n",
    "df1 = df1[df1['Genres'].apply(lambda x: 'Uncategorized' not in x)]\n",
    "df1['Genres'].str[0].value_counts().get('Uncategorized', 0)"
   ]
  },
  {
   "cell_type": "code",
   "execution_count": 10,
   "metadata": {},
   "outputs": [
    {
     "data": {
      "text/plain": [
       "(3834, 13)"
      ]
     },
     "execution_count": 10,
     "metadata": {},
     "output_type": "execute_result"
    }
   ],
   "source": [
    "df1.shape"
   ]
  },
  {
   "cell_type": "code",
   "execution_count": 11,
   "metadata": {},
   "outputs": [],
   "source": [
    "df1['Summary'] = df1['Summary'].apply(lambda x: x.split())"
   ]
  },
  {
   "cell_type": "code",
   "execution_count": 12,
   "metadata": {},
   "outputs": [],
   "source": [
    "df1['Director'] = df1['Director'].apply(lambda x: [x])\n"
   ]
  },
  {
   "cell_type": "code",
   "execution_count": 13,
   "metadata": {},
   "outputs": [],
   "source": [
    "df1['Writers'] = df1['Writers'].apply(lambda x: [x])"
   ]
  },
  {
   "cell_type": "code",
   "execution_count": 14,
   "metadata": {},
   "outputs": [
    {
     "data": {
      "text/html": [
       "<div>\n",
       "<style scoped>\n",
       "    .dataframe tbody tr th:only-of-type {\n",
       "        vertical-align: middle;\n",
       "    }\n",
       "\n",
       "    .dataframe tbody tr th {\n",
       "        vertical-align: top;\n",
       "    }\n",
       "\n",
       "    .dataframe thead th {\n",
       "        text-align: right;\n",
       "    }\n",
       "</style>\n",
       "<table border=\"1\" class=\"dataframe\">\n",
       "  <thead>\n",
       "    <tr style=\"text-align: right;\">\n",
       "      <th></th>\n",
       "      <th>Title</th>\n",
       "      <th>Year</th>\n",
       "      <th>Summary</th>\n",
       "      <th>Short Summary</th>\n",
       "      <th>Genres</th>\n",
       "      <th>IMDB ID</th>\n",
       "      <th>Runtime</th>\n",
       "      <th>YouTube Trailer</th>\n",
       "      <th>Rating</th>\n",
       "      <th>Movie Poster</th>\n",
       "      <th>Director</th>\n",
       "      <th>Writers</th>\n",
       "      <th>Cast</th>\n",
       "    </tr>\n",
       "  </thead>\n",
       "  <tbody>\n",
       "    <tr>\n",
       "      <th>1</th>\n",
       "      <td>New York Doll</td>\n",
       "      <td>2005</td>\n",
       "      <td>[A, recovering, alcoholic, and, recently, conv...</td>\n",
       "      <td>A recovering alcoholic and recently converted ...</td>\n",
       "      <td>[Documentary, Music]</td>\n",
       "      <td>tt0436629</td>\n",
       "      <td>75</td>\n",
       "      <td>jwD04NsnLLg</td>\n",
       "      <td>7.9</td>\n",
       "      <td>https://hydramovies.com/wp-content/uploads/201...</td>\n",
       "      <td>[Greg Whiteley]</td>\n",
       "      <td>[Arthur Kane]</td>\n",
       "      <td>[Sylvain Sylvain]</td>\n",
       "    </tr>\n",
       "    <tr>\n",
       "      <th>2</th>\n",
       "      <td>Mickey's Magical Christmas: Snowed in at the H...</td>\n",
       "      <td>2001</td>\n",
       "      <td>[After, everyone, is, snowed, in, at, the, Hou...</td>\n",
       "      <td>Mickey and all his friends hold their own Chri...</td>\n",
       "      <td>[Adventure, Animation, Comedy, Family, Fantasy]</td>\n",
       "      <td>tt0300195</td>\n",
       "      <td>65</td>\n",
       "      <td>uCKwHHftrU4</td>\n",
       "      <td>6.8</td>\n",
       "      <td>https://hydramovies.com/wp-content/uploads/201...</td>\n",
       "      <td>[Tony Craig]</td>\n",
       "      <td>[Thomas Hart]</td>\n",
       "      <td>[Carlos Alazraqui, Wayne Allwine]</td>\n",
       "    </tr>\n",
       "    <tr>\n",
       "      <th>3</th>\n",
       "      <td>Mickey's House of Villains</td>\n",
       "      <td>2001</td>\n",
       "      <td>[The, villains, from, the, popular, animated, ...</td>\n",
       "      <td>The villains from the popular animated Disney ...</td>\n",
       "      <td>[Animation, Comedy, Family, Fantasy, Horror]</td>\n",
       "      <td>tt0329374</td>\n",
       "      <td>0</td>\n",
       "      <td>JA03ciYt-Ek</td>\n",
       "      <td>6.6</td>\n",
       "      <td>https://hydramovies.com/wp-content/uploads/201...</td>\n",
       "      <td>[Jamie Mitchell]</td>\n",
       "      <td>[Thomas Hart]</td>\n",
       "      <td>[Tony Anselmo, Wayne Allwine]</td>\n",
       "    </tr>\n",
       "    <tr>\n",
       "      <th>4</th>\n",
       "      <td>And Then I Go</td>\n",
       "      <td>2017</td>\n",
       "      <td>[In, the, cruel, world, of, junior, high,, Edw...</td>\n",
       "      <td>In the cruel world of junior high, Edwin suffe...</td>\n",
       "      <td>[Drama]</td>\n",
       "      <td>tt2018111</td>\n",
       "      <td>99</td>\n",
       "      <td>8CdIiD6-iF0</td>\n",
       "      <td>7.6</td>\n",
       "      <td>https://hydramovies.com/wp-content/uploads/201...</td>\n",
       "      <td>[Vincent Grashaw]</td>\n",
       "      <td>[Brett Haley]</td>\n",
       "      <td>[Arman Darbo, Sawyer Barth]</td>\n",
       "    </tr>\n",
       "    <tr>\n",
       "      <th>5</th>\n",
       "      <td>An Extremely Goofy Movie</td>\n",
       "      <td>2000</td>\n",
       "      <td>[It's, a, big, time, in, Max's, life., He's, c...</td>\n",
       "      <td>Max goes to college, but to his embarassment h...</td>\n",
       "      <td>[Animation, Comedy, Family, Sport]</td>\n",
       "      <td>tt0208185</td>\n",
       "      <td>79</td>\n",
       "      <td>H8oSvldAGfg</td>\n",
       "      <td>6.4</td>\n",
       "      <td>https://hydramovies.com/wp-content/uploads/201...</td>\n",
       "      <td>[Douglas McCarthy]</td>\n",
       "      <td>[Scott Spencer Gorden]</td>\n",
       "      <td>[Bill Farmer, Jason Marsden, Jeff Bennett]</td>\n",
       "    </tr>\n",
       "  </tbody>\n",
       "</table>\n",
       "</div>"
      ],
      "text/plain": [
       "                                               Title  Year   \n",
       "1                                      New York Doll  2005  \\\n",
       "2  Mickey's Magical Christmas: Snowed in at the H...  2001   \n",
       "3                         Mickey's House of Villains  2001   \n",
       "4                                      And Then I Go  2017   \n",
       "5                           An Extremely Goofy Movie  2000   \n",
       "\n",
       "                                             Summary   \n",
       "1  [A, recovering, alcoholic, and, recently, conv...  \\\n",
       "2  [After, everyone, is, snowed, in, at, the, Hou...   \n",
       "3  [The, villains, from, the, popular, animated, ...   \n",
       "4  [In, the, cruel, world, of, junior, high,, Edw...   \n",
       "5  [It's, a, big, time, in, Max's, life., He's, c...   \n",
       "\n",
       "                                       Short Summary   \n",
       "1  A recovering alcoholic and recently converted ...  \\\n",
       "2  Mickey and all his friends hold their own Chri...   \n",
       "3  The villains from the popular animated Disney ...   \n",
       "4  In the cruel world of junior high, Edwin suffe...   \n",
       "5  Max goes to college, but to his embarassment h...   \n",
       "\n",
       "                                            Genres    IMDB ID  Runtime   \n",
       "1                             [Documentary, Music]  tt0436629       75  \\\n",
       "2  [Adventure, Animation, Comedy, Family, Fantasy]  tt0300195       65   \n",
       "3     [Animation, Comedy, Family, Fantasy, Horror]  tt0329374        0   \n",
       "4                                          [Drama]  tt2018111       99   \n",
       "5               [Animation, Comedy, Family, Sport]  tt0208185       79   \n",
       "\n",
       "  YouTube Trailer  Rating                                       Movie Poster   \n",
       "1     jwD04NsnLLg     7.9  https://hydramovies.com/wp-content/uploads/201...  \\\n",
       "2     uCKwHHftrU4     6.8  https://hydramovies.com/wp-content/uploads/201...   \n",
       "3     JA03ciYt-Ek     6.6  https://hydramovies.com/wp-content/uploads/201...   \n",
       "4     8CdIiD6-iF0     7.6  https://hydramovies.com/wp-content/uploads/201...   \n",
       "5     H8oSvldAGfg     6.4  https://hydramovies.com/wp-content/uploads/201...   \n",
       "\n",
       "             Director                 Writers   \n",
       "1     [Greg Whiteley]           [Arthur Kane]  \\\n",
       "2        [Tony Craig]           [Thomas Hart]   \n",
       "3    [Jamie Mitchell]           [Thomas Hart]   \n",
       "4   [Vincent Grashaw]           [Brett Haley]   \n",
       "5  [Douglas McCarthy]  [Scott Spencer Gorden]   \n",
       "\n",
       "                                         Cast  \n",
       "1                           [Sylvain Sylvain]  \n",
       "2           [Carlos Alazraqui, Wayne Allwine]  \n",
       "3               [Tony Anselmo, Wayne Allwine]  \n",
       "4                 [Arman Darbo, Sawyer Barth]  \n",
       "5  [Bill Farmer, Jason Marsden, Jeff Bennett]  "
      ]
     },
     "execution_count": 14,
     "metadata": {},
     "output_type": "execute_result"
    }
   ],
   "source": [
    "df1.head()"
   ]
  },
  {
   "cell_type": "markdown",
   "metadata": {},
   "source": [
    "NOW, WE HAVE TO FIND THE DATASETS WHICH ALIGNS WITH THIS AND FORMAT THEM AS WELL, AND APPEND THEM IN THIS HYDRA-MOVIE DATASET, \n",
    "THEN LATER REMOVE THE DUPLICATE ROWS TO CREATE A MASSIVE DATA FOR MOVIES"
   ]
  },
  {
   "cell_type": "code",
   "execution_count": 16,
   "metadata": {},
   "outputs": [
    {
     "name": "stdout",
     "output_type": "stream",
     "text": [
      "Searching for other datasets\n"
     ]
    }
   ],
   "source": [
    "print(\"Searching for other datasets\")"
   ]
  },
  {
   "cell_type": "code",
   "execution_count": 17,
   "metadata": {},
   "outputs": [],
   "source": [
    "def collapse(L):\n",
    "    L1 = []\n",
    "    for i in L:\n",
    "        L1.append(i.replace(\" \",\"\"))\n",
    "    return L1"
   ]
  },
  {
   "cell_type": "code",
   "execution_count": 37,
   "metadata": {},
   "outputs": [],
   "source": [
    "df1['Summary'] = df1['Summary'].apply(collapse)\n",
    "df1['Genres'] = df1['Genres'].apply(collapse)\n",
    "df1['Director'] = df1['Director'].apply(collapse)\n",
    "df1['Writers'] = df1['Writers'].apply(collapse)\n",
    "df1['Cast'] = df1['Cast'].apply(collapse)"
   ]
  },
  {
   "cell_type": "code",
   "execution_count": 38,
   "metadata": {},
   "outputs": [
    {
     "data": {
      "text/html": [
       "<div>\n",
       "<style scoped>\n",
       "    .dataframe tbody tr th:only-of-type {\n",
       "        vertical-align: middle;\n",
       "    }\n",
       "\n",
       "    .dataframe tbody tr th {\n",
       "        vertical-align: top;\n",
       "    }\n",
       "\n",
       "    .dataframe thead th {\n",
       "        text-align: right;\n",
       "    }\n",
       "</style>\n",
       "<table border=\"1\" class=\"dataframe\">\n",
       "  <thead>\n",
       "    <tr style=\"text-align: right;\">\n",
       "      <th></th>\n",
       "      <th>Title</th>\n",
       "      <th>Year</th>\n",
       "      <th>Summary</th>\n",
       "      <th>Short Summary</th>\n",
       "      <th>Genres</th>\n",
       "      <th>IMDB ID</th>\n",
       "      <th>Runtime</th>\n",
       "      <th>YouTube Trailer</th>\n",
       "      <th>Rating</th>\n",
       "      <th>Movie Poster</th>\n",
       "      <th>Director</th>\n",
       "      <th>Writers</th>\n",
       "      <th>Cast</th>\n",
       "      <th>tags</th>\n",
       "    </tr>\n",
       "  </thead>\n",
       "  <tbody>\n",
       "    <tr>\n",
       "      <th>1</th>\n",
       "      <td>New York Doll</td>\n",
       "      <td>2005</td>\n",
       "      <td>[A, recovering, alcoholic, and, recently, conv...</td>\n",
       "      <td>A recovering alcoholic and recently converted ...</td>\n",
       "      <td>[Documentary, Music]</td>\n",
       "      <td>tt0436629</td>\n",
       "      <td>75</td>\n",
       "      <td>jwD04NsnLLg</td>\n",
       "      <td>7.9</td>\n",
       "      <td>https://hydramovies.com/wp-content/uploads/201...</td>\n",
       "      <td>[GregWhiteley]</td>\n",
       "      <td>[ArthurKane]</td>\n",
       "      <td>[SylvainSylvain]</td>\n",
       "      <td>A recovering alcoholic and recently converted ...</td>\n",
       "    </tr>\n",
       "    <tr>\n",
       "      <th>2</th>\n",
       "      <td>Mickey's Magical Christmas: Snowed in at the H...</td>\n",
       "      <td>2001</td>\n",
       "      <td>[After, everyone, is, snowed, in, at, the, Hou...</td>\n",
       "      <td>Mickey and all his friends hold their own Chri...</td>\n",
       "      <td>[Adventure, Animation, Comedy, Family, Fantasy]</td>\n",
       "      <td>tt0300195</td>\n",
       "      <td>65</td>\n",
       "      <td>uCKwHHftrU4</td>\n",
       "      <td>6.8</td>\n",
       "      <td>https://hydramovies.com/wp-content/uploads/201...</td>\n",
       "      <td>[TonyCraig]</td>\n",
       "      <td>[ThomasHart]</td>\n",
       "      <td>[CarlosAlazraqui, WayneAllwine]</td>\n",
       "      <td>After everyone is snowed in at the House of Mo...</td>\n",
       "    </tr>\n",
       "    <tr>\n",
       "      <th>3</th>\n",
       "      <td>Mickey's House of Villains</td>\n",
       "      <td>2001</td>\n",
       "      <td>[The, villains, from, the, popular, animated, ...</td>\n",
       "      <td>The villains from the popular animated Disney ...</td>\n",
       "      <td>[Animation, Comedy, Family, Fantasy, Horror]</td>\n",
       "      <td>tt0329374</td>\n",
       "      <td>0</td>\n",
       "      <td>JA03ciYt-Ek</td>\n",
       "      <td>6.6</td>\n",
       "      <td>https://hydramovies.com/wp-content/uploads/201...</td>\n",
       "      <td>[JamieMitchell]</td>\n",
       "      <td>[ThomasHart]</td>\n",
       "      <td>[TonyAnselmo, WayneAllwine]</td>\n",
       "      <td>The villains from the popular animated Disney ...</td>\n",
       "    </tr>\n",
       "    <tr>\n",
       "      <th>4</th>\n",
       "      <td>And Then I Go</td>\n",
       "      <td>2017</td>\n",
       "      <td>[In, the, cruel, world, of, junior, high,, Edw...</td>\n",
       "      <td>In the cruel world of junior high, Edwin suffe...</td>\n",
       "      <td>[Drama]</td>\n",
       "      <td>tt2018111</td>\n",
       "      <td>99</td>\n",
       "      <td>8CdIiD6-iF0</td>\n",
       "      <td>7.6</td>\n",
       "      <td>https://hydramovies.com/wp-content/uploads/201...</td>\n",
       "      <td>[VincentGrashaw]</td>\n",
       "      <td>[BrettHaley]</td>\n",
       "      <td>[ArmanDarbo, SawyerBarth]</td>\n",
       "      <td>In the cruel world of junior high, Edwin suffe...</td>\n",
       "    </tr>\n",
       "    <tr>\n",
       "      <th>5</th>\n",
       "      <td>An Extremely Goofy Movie</td>\n",
       "      <td>2000</td>\n",
       "      <td>[It's, a, big, time, in, Max's, life., He's, c...</td>\n",
       "      <td>Max goes to college, but to his embarassment h...</td>\n",
       "      <td>[Animation, Comedy, Family, Sport]</td>\n",
       "      <td>tt0208185</td>\n",
       "      <td>79</td>\n",
       "      <td>H8oSvldAGfg</td>\n",
       "      <td>6.4</td>\n",
       "      <td>https://hydramovies.com/wp-content/uploads/201...</td>\n",
       "      <td>[DouglasMcCarthy]</td>\n",
       "      <td>[ScottSpencerGorden]</td>\n",
       "      <td>[BillFarmer, JasonMarsden, JeffBennett]</td>\n",
       "      <td>It's a big time in Max's life. He's college bo...</td>\n",
       "    </tr>\n",
       "  </tbody>\n",
       "</table>\n",
       "</div>"
      ],
      "text/plain": [
       "                                               Title  Year   \n",
       "1                                      New York Doll  2005  \\\n",
       "2  Mickey's Magical Christmas: Snowed in at the H...  2001   \n",
       "3                         Mickey's House of Villains  2001   \n",
       "4                                      And Then I Go  2017   \n",
       "5                           An Extremely Goofy Movie  2000   \n",
       "\n",
       "                                             Summary   \n",
       "1  [A, recovering, alcoholic, and, recently, conv...  \\\n",
       "2  [After, everyone, is, snowed, in, at, the, Hou...   \n",
       "3  [The, villains, from, the, popular, animated, ...   \n",
       "4  [In, the, cruel, world, of, junior, high,, Edw...   \n",
       "5  [It's, a, big, time, in, Max's, life., He's, c...   \n",
       "\n",
       "                                       Short Summary   \n",
       "1  A recovering alcoholic and recently converted ...  \\\n",
       "2  Mickey and all his friends hold their own Chri...   \n",
       "3  The villains from the popular animated Disney ...   \n",
       "4  In the cruel world of junior high, Edwin suffe...   \n",
       "5  Max goes to college, but to his embarassment h...   \n",
       "\n",
       "                                            Genres    IMDB ID  Runtime   \n",
       "1                             [Documentary, Music]  tt0436629       75  \\\n",
       "2  [Adventure, Animation, Comedy, Family, Fantasy]  tt0300195       65   \n",
       "3     [Animation, Comedy, Family, Fantasy, Horror]  tt0329374        0   \n",
       "4                                          [Drama]  tt2018111       99   \n",
       "5               [Animation, Comedy, Family, Sport]  tt0208185       79   \n",
       "\n",
       "  YouTube Trailer  Rating                                       Movie Poster   \n",
       "1     jwD04NsnLLg     7.9  https://hydramovies.com/wp-content/uploads/201...  \\\n",
       "2     uCKwHHftrU4     6.8  https://hydramovies.com/wp-content/uploads/201...   \n",
       "3     JA03ciYt-Ek     6.6  https://hydramovies.com/wp-content/uploads/201...   \n",
       "4     8CdIiD6-iF0     7.6  https://hydramovies.com/wp-content/uploads/201...   \n",
       "5     H8oSvldAGfg     6.4  https://hydramovies.com/wp-content/uploads/201...   \n",
       "\n",
       "            Director               Writers   \n",
       "1     [GregWhiteley]          [ArthurKane]  \\\n",
       "2        [TonyCraig]          [ThomasHart]   \n",
       "3    [JamieMitchell]          [ThomasHart]   \n",
       "4   [VincentGrashaw]          [BrettHaley]   \n",
       "5  [DouglasMcCarthy]  [ScottSpencerGorden]   \n",
       "\n",
       "                                      Cast   \n",
       "1                         [SylvainSylvain]  \\\n",
       "2          [CarlosAlazraqui, WayneAllwine]   \n",
       "3              [TonyAnselmo, WayneAllwine]   \n",
       "4                [ArmanDarbo, SawyerBarth]   \n",
       "5  [BillFarmer, JasonMarsden, JeffBennett]   \n",
       "\n",
       "                                                tags  \n",
       "1  A recovering alcoholic and recently converted ...  \n",
       "2  After everyone is snowed in at the House of Mo...  \n",
       "3  The villains from the popular animated Disney ...  \n",
       "4  In the cruel world of junior high, Edwin suffe...  \n",
       "5  It's a big time in Max's life. He's college bo...  "
      ]
     },
     "execution_count": 38,
     "metadata": {},
     "output_type": "execute_result"
    }
   ],
   "source": [
    "df1.head()"
   ]
  },
  {
   "cell_type": "code",
   "execution_count": 39,
   "metadata": {},
   "outputs": [
    {
     "name": "stdout",
     "output_type": "stream",
     "text": [
      "DF1 cleaned\n"
     ]
    }
   ],
   "source": [
    "print(\"DF1 cleaned\")\n",
    "df1.to_csv('D:\\PROJECTS\\Movie-recommender-system\\CleanedDataBeforeModel\\df1.csv')"
   ]
  },
  {
   "cell_type": "code",
   "execution_count": 40,
   "metadata": {},
   "outputs": [],
   "source": [
    "df1['tags'] = df1['Summary'] + df1['Genres'] + df1['Director'] + df1['Writers'] + df1['Cast']"
   ]
  },
  {
   "cell_type": "code",
   "execution_count": 41,
   "metadata": {},
   "outputs": [],
   "source": [
    "df1['tags'] = df1['tags'].apply(lambda x: ' '.join(x))"
   ]
  },
  {
   "cell_type": "code",
   "execution_count": 42,
   "metadata": {},
   "outputs": [],
   "source": [
    "new_df1 = df1.drop(columns=['Summary','Genres','Director','Writers','Cast','Year','Short Summary','IMDB ID','Runtime','YouTube Trailer', 'Rating', 'Movie Poster'])"
   ]
  },
  {
   "cell_type": "code",
   "execution_count": 43,
   "metadata": {},
   "outputs": [
    {
     "data": {
      "text/html": [
       "<div>\n",
       "<style scoped>\n",
       "    .dataframe tbody tr th:only-of-type {\n",
       "        vertical-align: middle;\n",
       "    }\n",
       "\n",
       "    .dataframe tbody tr th {\n",
       "        vertical-align: top;\n",
       "    }\n",
       "\n",
       "    .dataframe thead th {\n",
       "        text-align: right;\n",
       "    }\n",
       "</style>\n",
       "<table border=\"1\" class=\"dataframe\">\n",
       "  <thead>\n",
       "    <tr style=\"text-align: right;\">\n",
       "      <th></th>\n",
       "      <th>title</th>\n",
       "      <th>tags</th>\n",
       "    </tr>\n",
       "  </thead>\n",
       "  <tbody>\n",
       "    <tr>\n",
       "      <th>1</th>\n",
       "      <td>New York Doll</td>\n",
       "      <td>A recovering alcoholic and recently converted ...</td>\n",
       "    </tr>\n",
       "    <tr>\n",
       "      <th>2</th>\n",
       "      <td>Mickey's Magical Christmas: Snowed in at the H...</td>\n",
       "      <td>After everyone is snowed in at the House of Mo...</td>\n",
       "    </tr>\n",
       "    <tr>\n",
       "      <th>3</th>\n",
       "      <td>Mickey's House of Villains</td>\n",
       "      <td>The villains from the popular animated Disney ...</td>\n",
       "    </tr>\n",
       "    <tr>\n",
       "      <th>4</th>\n",
       "      <td>And Then I Go</td>\n",
       "      <td>In the cruel world of junior high, Edwin suffe...</td>\n",
       "    </tr>\n",
       "    <tr>\n",
       "      <th>5</th>\n",
       "      <td>An Extremely Goofy Movie</td>\n",
       "      <td>It's a big time in Max's life. He's college bo...</td>\n",
       "    </tr>\n",
       "  </tbody>\n",
       "</table>\n",
       "</div>"
      ],
      "text/plain": [
       "                                               title   \n",
       "1                                      New York Doll  \\\n",
       "2  Mickey's Magical Christmas: Snowed in at the H...   \n",
       "3                         Mickey's House of Villains   \n",
       "4                                      And Then I Go   \n",
       "5                           An Extremely Goofy Movie   \n",
       "\n",
       "                                                tags  \n",
       "1  A recovering alcoholic and recently converted ...  \n",
       "2  After everyone is snowed in at the House of Mo...  \n",
       "3  The villains from the popular animated Disney ...  \n",
       "4  In the cruel world of junior high, Edwin suffe...  \n",
       "5  It's a big time in Max's life. He's college bo...  "
      ]
     },
     "execution_count": 43,
     "metadata": {},
     "output_type": "execute_result"
    }
   ],
   "source": [
    "new_df1.rename(columns={'Title': 'title'}, inplace=True)\n",
    "new_df1.head()\n"
   ]
  },
  {
   "cell_type": "code",
   "execution_count": 45,
   "metadata": {},
   "outputs": [],
   "source": [
    "new_df1.to_csv('D:/PROJECTS/Movie-recommender-system/finalData/final_df1.csv')"
   ]
  },
  {
   "cell_type": "code",
   "execution_count": null,
   "metadata": {},
   "outputs": [],
   "source": []
  }
 ],
 "metadata": {
  "kernelspec": {
   "display_name": "Python 3",
   "language": "python",
   "name": "python3"
  },
  "language_info": {
   "codemirror_mode": {
    "name": "ipython",
    "version": 3
   },
   "file_extension": ".py",
   "mimetype": "text/x-python",
   "name": "python",
   "nbconvert_exporter": "python",
   "pygments_lexer": "ipython3",
   "version": "3.11.3"
  }
 },
 "nbformat": 4,
 "nbformat_minor": 2
}
